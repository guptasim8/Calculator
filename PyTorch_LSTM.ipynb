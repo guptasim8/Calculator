{
  "nbformat": 4,
  "nbformat_minor": 0,
  "metadata": {
    "colab": {
      "name": "PyTorch_LSTM.ipynb",
      "provenance": [],
      "authorship_tag": "ABX9TyN/dxghYs9kAPypAphBZWMP",
      "include_colab_link": true
    },
    "kernelspec": {
      "name": "python3",
      "display_name": "Python 3"
    },
    "language_info": {
      "name": "python"
    },
    "accelerator": "GPU",
    "gpuClass": "standard"
  },
  "cells": [
    {
      "cell_type": "markdown",
      "metadata": {
        "id": "view-in-github",
        "colab_type": "text"
      },
      "source": [
        "<a href=\"https://colab.research.google.com/github/guptasim8/Calculator/blob/main/PyTorch_LSTM.ipynb\" target=\"_parent\"><img src=\"https://colab.research.google.com/assets/colab-badge.svg\" alt=\"Open In Colab\"/></a>"
      ]
    },
    {
      "cell_type": "code",
      "execution_count": 2,
      "metadata": {
        "id": "F03zYLguStTb"
      },
      "outputs": [],
      "source": [
        "import numpy as np # linear algebra\n",
        "import pandas as pd # data processing, CSV file I/O (e.g. pd.read_csv)\n",
        "import torch\n",
        "import torch.nn as nn\n",
        "import torch.nn.functional as F\n",
        "from nltk.corpus import stopwords \n",
        "from collections import Counter\n",
        "import string\n",
        "import re\n",
        "import seaborn as sns\n",
        "from tqdm import tqdm\n",
        "import matplotlib.pyplot as plt\n",
        "from torch.utils.data import TensorDataset, DataLoader\n",
        "from sklearn.model_selection import train_test_split"
      ]
    },
    {
      "cell_type": "code",
      "source": [
        "is_cuda = torch.cuda.is_available()\n",
        "\n",
        "# If we have a GPU available, we'll set our device to GPU. We'll use this device variable later in our code.\n",
        "if is_cuda:\n",
        "    device = torch.device(\"cuda\")\n",
        "    print(\"GPU is available\")\n",
        "else:\n",
        "    device = torch.device(\"cpu\")\n",
        "    print(\"GPU not available, CPU used\")"
      ],
      "metadata": {
        "colab": {
          "base_uri": "https://localhost:8080/"
        },
        "id": "DAwAYIINUpCJ",
        "outputId": "aed7fb35-a7c9-43ad-9a7b-f7888a074984"
      },
      "execution_count": 3,
      "outputs": [
        {
          "output_type": "stream",
          "name": "stdout",
          "text": [
            "GPU is available\n"
          ]
        }
      ]
    },
    {
      "cell_type": "code",
      "source": [
        "df = pd.read_csv('IMDB Dataset.csv')\n",
        "#,engine='python')\n",
        "df.head()"
      ],
      "metadata": {
        "colab": {
          "base_uri": "https://localhost:8080/",
          "height": 206
        },
        "id": "RMSyEOTmUs4f",
        "outputId": "5115b48f-51eb-4a32-d32e-aa5c87ac975e"
      },
      "execution_count": 4,
      "outputs": [
        {
          "output_type": "execute_result",
          "data": {
            "text/plain": [
              "                                              review sentiment\n",
              "0  One of the other reviewers has mentioned that ...  positive\n",
              "1  A wonderful little production. <br /><br />The...  positive\n",
              "2  I thought this was a wonderful way to spend ti...  positive\n",
              "3  Basically there's a family where a little boy ...  negative\n",
              "4  Petter Mattei's \"Love in the Time of Money\" is...  positive"
            ],
            "text/html": [
              "\n",
              "  <div id=\"df-0efba175-5473-425e-91ca-585d835bf177\">\n",
              "    <div class=\"colab-df-container\">\n",
              "      <div>\n",
              "<style scoped>\n",
              "    .dataframe tbody tr th:only-of-type {\n",
              "        vertical-align: middle;\n",
              "    }\n",
              "\n",
              "    .dataframe tbody tr th {\n",
              "        vertical-align: top;\n",
              "    }\n",
              "\n",
              "    .dataframe thead th {\n",
              "        text-align: right;\n",
              "    }\n",
              "</style>\n",
              "<table border=\"1\" class=\"dataframe\">\n",
              "  <thead>\n",
              "    <tr style=\"text-align: right;\">\n",
              "      <th></th>\n",
              "      <th>review</th>\n",
              "      <th>sentiment</th>\n",
              "    </tr>\n",
              "  </thead>\n",
              "  <tbody>\n",
              "    <tr>\n",
              "      <th>0</th>\n",
              "      <td>One of the other reviewers has mentioned that ...</td>\n",
              "      <td>positive</td>\n",
              "    </tr>\n",
              "    <tr>\n",
              "      <th>1</th>\n",
              "      <td>A wonderful little production. &lt;br /&gt;&lt;br /&gt;The...</td>\n",
              "      <td>positive</td>\n",
              "    </tr>\n",
              "    <tr>\n",
              "      <th>2</th>\n",
              "      <td>I thought this was a wonderful way to spend ti...</td>\n",
              "      <td>positive</td>\n",
              "    </tr>\n",
              "    <tr>\n",
              "      <th>3</th>\n",
              "      <td>Basically there's a family where a little boy ...</td>\n",
              "      <td>negative</td>\n",
              "    </tr>\n",
              "    <tr>\n",
              "      <th>4</th>\n",
              "      <td>Petter Mattei's \"Love in the Time of Money\" is...</td>\n",
              "      <td>positive</td>\n",
              "    </tr>\n",
              "  </tbody>\n",
              "</table>\n",
              "</div>\n",
              "      <button class=\"colab-df-convert\" onclick=\"convertToInteractive('df-0efba175-5473-425e-91ca-585d835bf177')\"\n",
              "              title=\"Convert this dataframe to an interactive table.\"\n",
              "              style=\"display:none;\">\n",
              "        \n",
              "  <svg xmlns=\"http://www.w3.org/2000/svg\" height=\"24px\"viewBox=\"0 0 24 24\"\n",
              "       width=\"24px\">\n",
              "    <path d=\"M0 0h24v24H0V0z\" fill=\"none\"/>\n",
              "    <path d=\"M18.56 5.44l.94 2.06.94-2.06 2.06-.94-2.06-.94-.94-2.06-.94 2.06-2.06.94zm-11 1L8.5 8.5l.94-2.06 2.06-.94-2.06-.94L8.5 2.5l-.94 2.06-2.06.94zm10 10l.94 2.06.94-2.06 2.06-.94-2.06-.94-.94-2.06-.94 2.06-2.06.94z\"/><path d=\"M17.41 7.96l-1.37-1.37c-.4-.4-.92-.59-1.43-.59-.52 0-1.04.2-1.43.59L10.3 9.45l-7.72 7.72c-.78.78-.78 2.05 0 2.83L4 21.41c.39.39.9.59 1.41.59.51 0 1.02-.2 1.41-.59l7.78-7.78 2.81-2.81c.8-.78.8-2.07 0-2.86zM5.41 20L4 18.59l7.72-7.72 1.47 1.35L5.41 20z\"/>\n",
              "  </svg>\n",
              "      </button>\n",
              "      \n",
              "  <style>\n",
              "    .colab-df-container {\n",
              "      display:flex;\n",
              "      flex-wrap:wrap;\n",
              "      gap: 12px;\n",
              "    }\n",
              "\n",
              "    .colab-df-convert {\n",
              "      background-color: #E8F0FE;\n",
              "      border: none;\n",
              "      border-radius: 50%;\n",
              "      cursor: pointer;\n",
              "      display: none;\n",
              "      fill: #1967D2;\n",
              "      height: 32px;\n",
              "      padding: 0 0 0 0;\n",
              "      width: 32px;\n",
              "    }\n",
              "\n",
              "    .colab-df-convert:hover {\n",
              "      background-color: #E2EBFA;\n",
              "      box-shadow: 0px 1px 2px rgba(60, 64, 67, 0.3), 0px 1px 3px 1px rgba(60, 64, 67, 0.15);\n",
              "      fill: #174EA6;\n",
              "    }\n",
              "\n",
              "    [theme=dark] .colab-df-convert {\n",
              "      background-color: #3B4455;\n",
              "      fill: #D2E3FC;\n",
              "    }\n",
              "\n",
              "    [theme=dark] .colab-df-convert:hover {\n",
              "      background-color: #434B5C;\n",
              "      box-shadow: 0px 1px 3px 1px rgba(0, 0, 0, 0.15);\n",
              "      filter: drop-shadow(0px 1px 2px rgba(0, 0, 0, 0.3));\n",
              "      fill: #FFFFFF;\n",
              "    }\n",
              "  </style>\n",
              "\n",
              "      <script>\n",
              "        const buttonEl =\n",
              "          document.querySelector('#df-0efba175-5473-425e-91ca-585d835bf177 button.colab-df-convert');\n",
              "        buttonEl.style.display =\n",
              "          google.colab.kernel.accessAllowed ? 'block' : 'none';\n",
              "\n",
              "        async function convertToInteractive(key) {\n",
              "          const element = document.querySelector('#df-0efba175-5473-425e-91ca-585d835bf177');\n",
              "          const dataTable =\n",
              "            await google.colab.kernel.invokeFunction('convertToInteractive',\n",
              "                                                     [key], {});\n",
              "          if (!dataTable) return;\n",
              "\n",
              "          const docLinkHtml = 'Like what you see? Visit the ' +\n",
              "            '<a target=\"_blank\" href=https://colab.research.google.com/notebooks/data_table.ipynb>data table notebook</a>'\n",
              "            + ' to learn more about interactive tables.';\n",
              "          element.innerHTML = '';\n",
              "          dataTable['output_type'] = 'display_data';\n",
              "          await google.colab.output.renderOutput(dataTable, element);\n",
              "          const docLink = document.createElement('div');\n",
              "          docLink.innerHTML = docLinkHtml;\n",
              "          element.appendChild(docLink);\n",
              "        }\n",
              "      </script>\n",
              "    </div>\n",
              "  </div>\n",
              "  "
            ]
          },
          "metadata": {},
          "execution_count": 4
        }
      ]
    },
    {
      "cell_type": "code",
      "source": [
        "X,y = df['review'].values,df['sentiment'].values\n",
        "x_train,x_test,y_train,y_test = train_test_split(X,y,stratify=y)\n",
        "print(f'shape of train data is {x_train.shape}')\n",
        "print(f'shape of test data is {x_test.shape}')"
      ],
      "metadata": {
        "colab": {
          "base_uri": "https://localhost:8080/"
        },
        "id": "0s41DQexAalT",
        "outputId": "1e7cb199-150f-4386-90fb-55ec9f0e6c16"
      },
      "execution_count": 5,
      "outputs": [
        {
          "output_type": "stream",
          "name": "stdout",
          "text": [
            "shape of train data is (37500,)\n",
            "shape of test data is (12500,)\n"
          ]
        }
      ]
    },
    {
      "cell_type": "code",
      "source": [
        "df.groupby(['sentiment']).size().plot.bar()"
      ],
      "metadata": {
        "colab": {
          "base_uri": "https://localhost:8080/",
          "height": 330
        },
        "id": "lIC1vXExd9h1",
        "outputId": "01c2bc43-e589-4485-b81b-c9627076c2c5"
      },
      "execution_count": null,
      "outputs": [
        {
          "output_type": "execute_result",
          "data": {
            "text/plain": [
              "<matplotlib.axes._subplots.AxesSubplot at 0x7fb49ce36710>"
            ]
          },
          "metadata": {},
          "execution_count": 8
        },
        {
          "output_type": "display_data",
          "data": {
            "text/plain": [
              "<Figure size 432x288 with 1 Axes>"
            ],
            "image/png": "[encoded data removed]"
          },
          "metadata": {
            "needs_background": "light"
          }
        }
      ]
    },
    {
      "cell_type": "code",
      "source": [
        "import nltk\n",
        "nltk.download('stopwords')\n",
        "def preprocess_string(s):\n",
        "    # Remove all non-word characters (everything except numbers and letters)\n",
        "    s = re.sub(r\"[^\\w\\s]\", '', s)\n",
        "    # Replace all runs of whitespaces with no space\n",
        "    s = re.sub(r\"\\s+\", '', s)\n",
        "    # replace digits with no space\n",
        "    s = re.sub(r\"\\d\", '', s)\n",
        "    return s\n",
        "\n",
        "def tokenize(x_train,y_train,x_val,y_val):\n",
        "    word_list = []\n",
        "\n",
        "    stop_words = set(stopwords.words('english')) \n",
        "    for sent in x_train:\n",
        "        for word in sent.lower().split():\n",
        "            word = preprocess_string(word)\n",
        "            if word not in stop_words and word != '':\n",
        "                word_list.append(word)\n",
        "  \n",
        "    #counting occurences of each word (list{word_list}->map{corpus(word:count)})\n",
        "    corpus = Counter(word_list)\n",
        "    # sorting on the basis of most common words\n",
        "    corpus_ = sorted(corpus, key=corpus.get ,reverse=True)[:1000]\n",
        "    # creating a dict\n",
        "    onehot_dict = {w:i+1 for i,w in enumerate(corpus_)}\n",
        "    print(onehot_dict)\n",
        "    \n",
        "    # tokenize\n",
        "    final_list_train,final_list_test = [],[]\n",
        "    for sent in x_train:\n",
        "            final_list_train.append([onehot_dict[preprocess_string(word)] for word in sent.lower().split() \n",
        "                                     if preprocess_string(word) in onehot_dict.keys()])\n",
        "    for sent in x_val:\n",
        "            final_list_test.append([onehot_dict[preprocess_string(word)] for word in sent.lower().split() \n",
        "                                    if preprocess_string(word) in onehot_dict.keys()])\n",
        "\n",
        "    \n",
        "    encoded_train = [1 if label =='positive' else 0 for label in y_train]  \n",
        "    encoded_test = [1 if label =='positive' else 0 for label in y_val] \n",
        "    return np.array(final_list_train), np.array(encoded_train),np.array(final_list_test), np.array(encoded_test),onehot_dict\n"
      ],
      "metadata": {
        "colab": {
          "base_uri": "https://localhost:8080/"
        },
        "id": "hhlcAk3IoAqP",
        "outputId": "d17d5abf-d1ea-408c-b378-20713de02f7b"
      },
      "execution_count": 6,
      "outputs": [
        {
          "output_type": "stream",
          "name": "stderr",
          "text": [
            "[nltk_data] Downloading package stopwords to /root/nltk_data...\n",
            "[nltk_data]   Package stopwords is already up-to-date!\n"
          ]
        }
      ]
    },
    {
      "cell_type": "code",
      "source": [
        "x_train,y_train,x_test,y_test,vocab = tokenize(x_train,y_train,x_test,y_test)"
      ],
      "metadata": {
        "colab": {
          "base_uri": "https://localhost:8080/"
        },
        "id": "0mg8zyhMoECi",
        "outputId": "06fe6a1a-eb8f-47b6-8f4b-8cccfd7c86d5"
      },
      "execution_count": 7,
      "outputs": [
        {
          "output_type": "stream",
          "name": "stdout",
          "text": [
            "{'br': 1, 'movie': 2, 'film': 3, 'one': 4, 'like': 5, 'good': 6, 'even': 7, 'would': 8, 'time': 9, 'really': 10, 'see': 11, 'story': 12, 'much': 13, 'well': 14, 'get': 15, 'great': 16, 'also': 17, 'bad': 18, 'people': 19, 'first': 20, 'dont': 21, 'movies': 22, 'made': 23, 'make': 24, 'films': 25, 'could': 26, 'way': 27, 'characters': 28, 'think': 29, 'watch': 30, 'many': 31, 'two': 32, 'seen': 33, 'character': 34, 'never': 35, 'love': 36, 'acting': 37, 'plot': 38, 'little': 39, 'know': 40, 'best': 41, 'show': 42, 'life': 43, 'ever': 44, 'better': 45, 'still': 46, 'say': 47, 'scene': 48, 'end': 49, 'man': 50, 'scenes': 51, 'something': 52, 'go': 53, 'im': 54, 'back': 55, 'real': 56, 'watching': 57, 'thing': 58, 'doesnt': 59, 'actors': 60, 'didnt': 61, 'years': 62, 'another': 63, 'though': 64, 'actually': 65, 'makes': 66, 'nothing': 67, 'funny': 68, 'find': 69, 'look': 70, 'going': 71, 'new': 72, 'lot': 73, 'work': 74, 'every': 75, 'us': 76, 'old': 77, 'part': 78, 'cant': 79, 'director': 80, 'thats': 81, 'quite': 82, 'want': 83, 'things': 84, 'pretty': 85, 'cast': 86, 'around': 87, 'seems': 88, 'got': 89, 'take': 90, 'world': 91, 'fact': 92, 'however': 93, 'young': 94, 'enough': 95, 'horror': 96, 'big': 97, 'give': 98, 'ive': 99, 'may': 100, 'thought': 101, 'always': 102, 'without': 103, 'isnt': 104, 'right': 105, 'saw': 106, 'long': 107, 'original': 108, 'theres': 109, 'series': 110, 'come': 111, 'music': 112, 'gets': 113, 'must': 114, 'comedy': 115, 'almost': 116, 'role': 117, 'least': 118, 'times': 119, 'interesting': 120, 'whole': 121, 'action': 122, 'point': 123, 'guy': 124, 'done': 125, 'bit': 126, 'might': 127, 'minutes': 128, 'since': 129, 'far': 130, 'hes': 131, 'feel': 132, 'script': 133, 'last': 134, 'probably': 135, 'anything': 136, 'kind': 137, 'performance': 138, 'family': 139, 'yet': 140, 'tv': 141, 'rather': 142, 'anyone': 143, 'away': 144, 'worst': 145, 'fun': 146, 'sure': 147, 'found': 148, 'played': 149, 'although': 150, 'woman': 151, 'girl': 152, 'making': 153, 'believe': 154, 'especially': 155, 'trying': 156, 'shows': 157, 'course': 158, 'comes': 159, 'goes': 160, 'different': 161, 'hard': 162, 'everything': 163, 'put': 164, 'looking': 165, 'worth': 166, 'main': 167, 'day': 168, 'maybe': 169, 'dvd': 170, 'ending': 171, 'place': 172, 'looks': 173, 'wasnt': 174, 'someone': 175, 'reason': 176, 'three': 177, 'watched': 178, 'sense': 179, 'book': 180, 'set': 181, 'plays': 182, 'screen': 183, 'effects': 184, 'true': 185, 'play': 186, 'job': 187, 'money': 188, 'together': 189, 'actor': 190, 'seem': 191, 'said': 192, 'takes': 193, 'everyone': 194, 'seeing': 195, 'instead': 196, 'beautiful': 197, 'special': 198, 'american': 199, 'left': 200, 'later': 201, 'excellent': 202, 'john': 203, 'night': 204, 'idea': 205, 'version': 206, 'audience': 207, 'war': 208, 'shot': 209, 'simply': 210, 'high': 211, 'fan': 212, 'youre': 213, 'completely': 214, 'black': 215, 'used': 216, 'kids': 217, 'house': 218, 'poor': 219, 'nice': 220, 'wife': 221, 'else': 222, 'read': 223, 'death': 224, 'short': 225, 'second': 226, 'friends': 227, 'given': 228, 'along': 229, 'help': 230, 'enjoy': 231, 'try': 232, 'men': 233, 'year': 234, 'less': 235, 'star': 236, 'mind': 237, 'use': 238, 'need': 239, 'home': 240, 'truly': 241, 'classic': 242, 'either': 243, 'performances': 244, 'boring': 245, 'half': 246, 'rest': 247, 'couple': 248, 'production': 249, 'father': 250, 'wrong': 251, 'start': 252, 'recommend': 253, 'let': 254, 'next': 255, 'hollywood': 256, 'line': 257, 'stupid': 258, 'came': 259, 'full': 260, 'tell': 261, 'women': 262, 'getting': 263, 'understand': 264, 'dead': 265, 'others': 266, 'remember': 267, 'terrible': 268, 'camera': 269, 'mean': 270, 'sex': 271, 'perhaps': 272, 'keep': 273, 'school': 274, 'awful': 275, 'moments': 276, 'wonderful': 277, 'playing': 278, 'definitely': 279, 'often': 280, 'name': 281, 'human': 282, 'small': 283, 'video': 284, 'budget': 285, 'early': 286, 'perfect': 287, 'top': 288, 'couldnt': 289, 'absolutely': 290, 'gives': 291, 'went': 292, 'person': 293, 'piece': 294, 'finally': 295, 'become': 296, 'face': 297, 'dialogue': 298, 'case': 299, 'episode': 300, 'guys': 301, 'certainly': 302, 'title': 303, 'lines': 304, 'stars': 305, 'loved': 306, 'hope': 307, 'liked': 308, 'sort': 309, 'entire': 310, 'head': 311, 'felt': 312, 'overall': 313, 'yes': 314, 'boy': 315, 'several': 316, 'entertaining': 317, 'shes': 318, 'mr': 319, 'written': 320, 'mother': 321, 'worse': 322, 'style': 323, 'live': 324, 'supposed': 325, 'totally': 326, 'oh': 327, 'lost': 328, 'waste': 329, 'sound': 330, 'problem': 331, 'friend': 332, 'picture': 333, 'laugh': 334, 'based': 335, 'fans': 336, 'despite': 337, 'beginning': 338, 'cinema': 339, 'dark': 340, 'id': 341, 'youll': 342, 'already': 343, 'final': 344, 'becomes': 345, 'wanted': 346, 'seemed': 347, 'lead': 348, 'care': 349, 'wont': 350, 'direction': 351, 'turn': 352, 'example': 353, 'called': 354, 'able': 355, 'lives': 356, 'guess': 357, 'humor': 358, 'evil': 359, 'low': 360, 'throughout': 361, 'unfortunately': 362, 'children': 363, 'white': 364, 'drama': 365, 'girls': 366, 'fine': 367, 'theyre': 368, 'days': 369, 'wants': 370, 'quality': 371, 'writing': 372, 'amazing': 373, 'history': 374, 'michael': 375, 'game': 376, 'kill': 377, 'killer': 378, 'horrible': 379, 'tries': 380, 'parts': 381, 'works': 382, 'side': 383, 'act': 384, 'gave': 385, 'son': 386, 'enjoyed': 387, 'turns': 388, 'run': 389, 'expect': 390, 'favorite': 391, 'brilliant': 392, 'matter': 393, 'past': 394, 'behind': 395, 'obviously': 396, 'flick': 397, 'eyes': 398, 'town': 399, 'killed': 400, 'ones': 401, 'sometimes': 402, 'directed': 403, 'viewer': 404, 'soon': 405, 'starts': 406, 'city': 407, 'stuff': 408, 'late': 409, 'thinking': 410, 'ill': 411, 'car': 412, 'genre': 413, 'group': 414, 'took': 415, 'heard': 416, 'highly': 417, 'art': 418, 'actress': 419, 'fight': 420, 'decent': 421, 'says': 422, 'child': 423, 'heart': 424, 'extremely': 425, 'kid': 426, 'except': 427, 'happens': 428, 'feeling': 429, 'leave': 430, 'hell': 431, 'wouldnt': 432, 'close': 433, 'blood': 434, 'experience': 435, 'lack': 436, 'told': 437, 'cannot': 438, 'strong': 439, 'looked': 440, 'score': 441, 'stories': 442, 'hour': 443, 'police': 444, 'etc': 445, 'moment': 446, 'coming': 447, 'save': 448, 'itbr': 449, 'violence': 450, 'involved': 451, 'particularly': 452, 'including': 453, 'wonder': 454, 'roles': 455, 'ok': 456, 'attempt': 457, 'chance': 458, 'taken': 459, 'james': 460, 'shown': 461, 'type': 462, 'obvious': 463, 'complete': 464, 'serious': 465, 'happened': 466, 'daughter': 467, 'hilarious': 468, 'hand': 469, 'anyway': 470, 'living': 471, 'usually': 472, 'happen': 473, 'exactly': 474, 'stop': 475, 'god': 476, 'ago': 477, 'robert': 478, 'voice': 479, 'david': 480, 'lets': 481, 'cool': 482, 'known': 483, 'murder': 484, 'simple': 485, 'song': 486, 'interest': 487, 'please': 488, 'opening': 489, 'number': 490, 'across': 491, 'seriously': 492, 'none': 493, 'wish': 494, 'saying': 495, 'possible': 496, 'cinematography': 497, 'reality': 498, 'slow': 499, 'order': 500, 'sad': 501, 'whose': 502, 'shots': 503, 'relationship': 504, 'huge': 505, 'talent': 506, 'hours': 507, 'alone': 508, 'started': 509, 'call': 510, 'released': 511, 'hit': 512, 'english': 513, 'gore': 514, 'documentary': 515, 'usual': 516, 'female': 517, 'jokes': 518, 'beyond': 519, 'major': 520, 'crap': 521, 'today': 522, 'annoying': 523, 'somewhat': 524, 'ridiculous': 525, 'running': 526, 'power': 527, 'knows': 528, 'hero': 529, 'career': 530, 'rating': 531, 'view': 532, 'change': 533, 'turned': 534, 'brother': 535, 'age': 536, 'knew': 537, 'husband': 538, 'mostly': 539, 'important': 540, 'body': 541, 'opinion': 542, 'taking': 543, 'ends': 544, 'cut': 545, 'attention': 546, 'finds': 547, 'due': 548, 'words': 549, 'silly': 550, 'whats': 551, 'word': 552, 'scary': 553, 'upon': 554, 'happy': 555, 'apparently': 556, 'novel': 557, 'country': 558, 'directors': 559, 'clearly': 560, 'level': 561, 'basically': 562, 'moviebr': 563, 'four': 564, 'local': 565, 'strange': 566, 'musical': 567, 'miss': 568, 'talking': 569, 'disappointed': 570, 'single': 571, 'episodes': 572, 'sequence': 573, 'events': 574, 'room': 575, 'tells': 576, 'arent': 577, 'british': 578, 'problems': 579, 'cheap': 580, 'lots': 581, 'giving': 582, 'jack': 583, 'whether': 584, 'havent': 585, 'television': 586, 'sets': 587, 'talk': 588, 'bring': 589, 'romantic': 590, 'easily': 591, 'appears': 592, 'review': 593, 'similar': 594, 'ten': 595, 'five': 596, 'songs': 597, 'add': 598, 'modern': 599, 'french': 600, 'light': 601, 'team': 602, 'filmbr': 603, 'dialog': 604, 'enjoyable': 605, 'viewers': 606, 'predictable': 607, 'soundtrack': 608, 'space': 609, 'supporting': 610, 'comic': 611, 'hate': 612, 'falls': 613, 'needs': 614, 'fall': 615, 'certain': 616, 'mention': 617, 'within': 618, 'filmed': 619, 'sorry': 620, 'moving': 621, 'parents': 622, 'earth': 623, 'clear': 624, 'among': 625, 'surprised': 626, 'future': 627, 'stay': 628, 'entertainment': 629, 'message': 630, 'george': 631, 'showing': 632, 'bunch': 633, 'middle': 634, 'kept': 635, 'release': 636, 'theme': 637, 'dull': 638, 'using': 639, 'near': 640, 'king': 641, 'gone': 642, 'sequel': 643, 'storyline': 644, 'named': 645, 'effort': 646, 'comments': 647, 'buy': 648, 'theater': 649, 'thriller': 650, 'tried': 651, 'means': 652, 'nearly': 653, 'elements': 654, 'working': 655, 'feels': 656, 'ways': 657, 'typical': 658, 'easy': 659, 'deal': 660, 'avoid': 661, 'actual': 662, 'feature': 663, 'writer': 664, 'th': 665, 'suspense': 666, 'monster': 667, 'subject': 668, 'leads': 669, 'straight': 670, 'material': 671, 'tale': 672, 'imagine': 673, 'doubt': 674, 'greatest': 675, 'fantastic': 676, 'dr': 677, 'richard': 678, 'editing': 679, 'rock': 680, 'youve': 681, 'check': 682, 'forget': 683, 'realistic': 684, 'brought': 685, 'rent': 686, 'form': 687, 'die': 688, 'boys': 689, 'viewing': 690, 'points': 691, 'peter': 692, 'hear': 693, 'mystery': 694, 'general': 695, 'famous': 696, 'okay': 697, 'killing': 698, 'move': 699, 'lady': 700, 'minute': 701, 'whos': 702, 'sister': 703, 'class': 704, 'reviews': 705, 'sequences': 706, 'animation': 707, 'figure': 708, 'somehow': 709, 'particular': 710, 'dog': 711, 'begins': 712, 'eventually': 713, 'eye': 714, 'period': 715, 'paul': 716, 'tom': 717, 'weak': 718, 'believable': 719, 'fast': 720, 'surprise': 721, 'decided': 722, 'expected': 723, 'premise': 724, 'truth': 725, 'difficult': 726, 'poorly': 727, 'learn': 728, 'sit': 729, 'indeed': 730, 'york': 731, 'leaves': 732, 'follow': 733, 'atmosphere': 734, 'deep': 735, 'dance': 736, 'crime': 737, 'unless': 738, 'red': 739, 'begin': 740, 'wait': 741, 'crew': 742, 'average': 743, 'possibly': 744, 'needed': 745, 'write': 746, 'sexual': 747, 'open': 748, 'question': 749, 'forced': 750, 'note': 751, 'emotional': 752, 'whatever': 753, 'lame': 754, 'filmmakers': 755, 'stand': 756, 'crazy': 757, 'meet': 758, 'scifi': 759, 'doctor': 760, 'situation': 761, 'hot': 762, 'third': 763, 'became': 764, 'otherwise': 765, 'interested': 766, 'writers': 767, 'oscar': 768, 'personal': 769, 'keeps': 770, 'footage': 771, 'features': 772, 'memorable': 773, 'previous': 774, 'romance': 775, 'comment': 776, 'meets': 777, 'shame': 778, 'superb': 779, 'gay': 780, 'reading': 781, 'society': 782, 'beauty': 783, 'imdb': 784, 'season': 785, 'incredibly': 786, 'credits': 787, 'cheesy': 788, 'male': 789, 'worked': 790, 'plus': 791, 'towards': 792, 'battle': 793, 'sounds': 794, 'total': 795, 'badly': 796, 'result': 797, 'nature': 798, 'brings': 799, 'plenty': 800, 'hands': 801, 'weird': 802, 'various': 803, 'street': 804, 'island': 805, 'box': 806, 'western': 807, 'background': 808, 'japanese': 809, 'copy': 810, 'following': 811, 'inside': 812, 'earlier': 813, 'de': 814, 'front': 815, 'b': 816, 'air': 817, 'appear': 818, 'masterpiece': 819, 'laughs': 820, 'quickly': 821, 'fairly': 822, 'perfectly': 823, 'powerful': 824, 'setting': 825, 'realize': 826, 'directing': 827, 'leading': 828, 'unique': 829, 'forward': 830, 'admit': 831, 'screenplay': 832, 'business': 833, 'portrayed': 834, 'effect': 835, 'older': 836, 'remake': 837, 'stage': 838, 'free': 839, 'rich': 840, 'outside': 841, 'america': 842, 'members': 843, 'ask': 844, 'acted': 845, 'manages': 846, 'political': 847, 'lee': 848, 'fire': 849, 'mess': 850, 'mark': 851, 'water': 852, 'reasons': 853, 'development': 854, 'creepy': 855, 'expecting': 856, 'meant': 857, 'dramatic': 858, 'fighting': 859, 'return': 860, 'spent': 861, 'wasted': 862, 'apart': 863, 'pay': 864, 'agree': 865, 'baby': 866, 'bill': 867, 'joe': 868, 'cover': 869, 'pure': 870, 'party': 871, 'create': 872, 'william': 873, 'caught': 874, 'secret': 875, 'missing': 876, 'ended': 877, 'fails': 878, 'talented': 879, 'deserves': 880, 'attempts': 881, 'dumb': 882, 'ideas': 883, 'joke': 884, 'potential': 885, 'unlike': 886, 'recently': 887, 'large': 888, 'nudity': 889, 'clever': 890, 'present': 891, 'escape': 892, 'laughing': 893, 'telling': 894, 'brothers': 895, 'girlfriend': 896, 'cop': 897, 'hardly': 898, 'zombie': 899, 'twist': 900, 'odd': 901, 'public': 902, 'gun': 903, 'waiting': 904, 'slightly': 905, 'success': 906, 'la': 907, 'plain': 908, 'break': 909, 'considering': 910, 'visual': 911, 'italian': 912, 'missed': 913, 'incredible': 914, 'dream': 915, 'german': 916, 'uses': 917, 'hold': 918, 'state': 919, 'cause': 920, 'casting': 921, 'entirely': 922, 'cute': 923, 'sadly': 924, 'villain': 925, 'sees': 926, 'convincing': 927, 'fear': 928, 'created': 929, 'bored': 930, 'flat': 931, 'van': 932, 'decides': 933, 'match': 934, 'disney': 935, 'appreciate': 936, 'familiar': 937, 'married': 938, 'follows': 939, 'pace': 940, 'portrayal': 941, 'popular': 942, 'mentioned': 943, 'compared': 944, 'former': 945, 'company': 946, 'cartoon': 947, 'violent': 948, 'era': 949, 'train': 950, 'store': 951, 'suddenly': 952, 'died': 953, 'fantasy': 954, 'produced': 955, 'biggest': 956, 'list': 957, 'fit': 958, 'decide': 959, 'social': 960, 'intelligent': 961, 'credit': 962, 'neither': 963, 'science': 964, 'tension': 965, 'speak': 966, 'moves': 967, 'wrote': 968, 'producers': 969, 'amount': 970, 'recent': 971, 'office': 972, 'sweet': 973, 'trouble': 974, 'college': 975, 'ultimately': 976, 'scott': 977, 'dancing': 978, 'consider': 979, 'kills': 980, 'choice': 981, 'language': 982, 'rate': 983, 'value': 984, 'spirit': 985, 'amusing': 986, 'considered': 987, 'images': 988, 'werent': 989, 'audiences': 990, 'common': 991, 'project': 992, 'situations': 993, 'filled': 994, 'spend': 995, 'successful': 996, 'likes': 997, 'christmas': 998, 'bizarre': 999, 'basic': 1000}\n"
          ]
        },
        {
          "output_type": "stream",
          "name": "stderr",
          "text": [
            "/usr/local/lib/python3.7/dist-packages/ipykernel_launcher.py:43: VisibleDeprecationWarning: Creating an ndarray from ragged nested sequences (which is a list-or-tuple of lists-or-tuples-or ndarrays with different lengths or shapes) is deprecated. If you meant to do this, you must specify 'dtype=object' when creating the ndarray.\n"
          ]
        }
      ]
    },
    {
      "cell_type": "code",
      "source": [
        "x_train.shape"
      ],
      "metadata": {
        "colab": {
          "base_uri": "https://localhost:8080/"
        },
        "id": "X7m5pyUTxruT",
        "outputId": "5fca68c5-f408-4a50-9635-5a805bb7e0cd"
      },
      "execution_count": 10,
      "outputs": [
        {
          "output_type": "execute_result",
          "data": {
            "text/plain": [
              "(37500,)"
            ]
          },
          "metadata": {},
          "execution_count": 10
        }
      ]
    },
    {
      "cell_type": "code",
      "source": [
        "y_train.shape"
      ],
      "metadata": {
        "colab": {
          "base_uri": "https://localhost:8080/"
        },
        "id": "2ujV-etayOWb",
        "outputId": "fe5107c6-66c3-4641-ce2b-c0049ab2f7fe"
      },
      "execution_count": 11,
      "outputs": [
        {
          "output_type": "execute_result",
          "data": {
            "text/plain": [
              "(37500,)"
            ]
          },
          "metadata": {},
          "execution_count": 11
        }
      ]
    },
    {
      "cell_type": "code",
      "source": [
        "x_train"
      ],
      "metadata": {
        "colab": {
          "base_uri": "https://localhost:8080/"
        },
        "id": "UTp0Hh41ywpU",
        "outputId": "bbe8ccc7-6df1-4d0d-b249-c62bbcc23dbd"
      },
      "execution_count": 12,
      "outputs": [
        {
          "output_type": "execute_result",
          "data": {
            "text/plain": [
              "array([list([85, 120, 30, 20, 44, 46, 457, 330, 772, 32, 233, 978, 744, 873, 255, 1, 330, 988, 189, 4, 140, 174, 887, 330, 189, 135, 176, 19, 510, 2, 20, 44, 330, 1, 2, 23, 873, 111, 27, 330, 888, 806, 19, 26, 30, 621, 988, 812, 330, 20, 40, 663, 201, 22, 639, 209, 22, 330, 184, 201, 457, 330, 988, 457, 988, 330, 19, 26, 7, 177, 330, 161, 244, 988, 44, 23, 26, 898, 510, 906, 17, 292, 339, 1, 396, 296, 906, 17, 129, 415, 62, 20, 22, 330, 23, 511, 289, 140, 164, 330, 988, 189, 140, 9, 7, 26, 8, 8, 187, 10, 104, 540, 22, 374, 120, 30, 19, 651, 371, 286, 339, 1]),\n",
              "       list([63, 18, 333, 448, 112, 247, 3, 145, 99, 33, 62, 379, 21, 11]),\n",
              "       list([57, 31, 62, 554, 108, 636, 626, 14, 4, 853, 4, 101, 521, 4, 570, 42, 260, 33, 624, 343, 533, 436, 624, 627, 348, 202, 415, 13, 25, 823, 803, 870, 266, 706, 252, 47, 4, 559, 197, 165, 302, 89, 41, 50, 23, 327, 585, 7, 943, 417, 171]),\n",
              "       ...,\n",
              "       list([46, 101, 24, 643, 26, 24, 18, 251, 306, 108, 93, 2, 108, 2, 108, 118, 790, 968, 2, 537, 67, 427, 238, 552, 674, 7, 178, 108, 2, 37, 104, 7, 927, 488, 448, 30, 2, 21, 349, 141, 79, 352, 141, 2, 43]),\n",
              "       list([6, 2, 174, 658, 208, 397, 52, 126, 161, 2, 76, 208, 65, 859, 208, 3, 4, 208, 25, 5, 23, 16, 187, 17, 14, 195, 699, 816, 225, 62, 8, 35, 101, 8, 473, 17, 598, 16, 187, 2, 234, 153, 70, 5, 6, 6, 11, 506, 216, 307, 11, 506, 640, 627]),\n",
              "       list([99, 33, 3, 114, 47, 387, 119, 720, 146, 976, 192, 880, 26, 6, 733, 108, 624, 33, 275, 899, 25, 39, 559, 361, 261, 403, 452, 1, 3, 87, 288, 875, 556, 835, 899, 5, 821, 491, 420, 356, 1, 3, 88, 246, 27, 899, 514, 397, 122, 560, 818, 181, 991, 14, 108, 135, 167, 414, 328, 179, 215, 87, 584, 173, 5, 577, 243, 14, 402, 279, 74, 1, 763, 899, 462, 556, 179, 14, 54, 10, 434, 525, 900, 49, 388, 899, 307, 465, 1, 109, 899, 311, 817, 491, 297, 47, 40, 18, 1, 28, 4, 8, 390, 298, 10, 76, 543, 492, 192, 20, 688, 164, 899, 730, 20, 272, 9, 512, 56, 899, 4, 51, 603, 1, 124, 149, 424, 506, 304, 922, 544, 5, 183, 881, 326, 481, 164, 32, 189, 1, 1, 276, 93, 286, 48, 517, 554, 575, 532, 708, 209, 601, 899, 163, 4, 276, 56, 96, 3, 637, 182, 838, 201, 48, 4, 575, 560, 82, 84, 296, 858, 653, 26, 1, 8, 47, 3, 100, 354, 899, 142, 210, 18, 3, 67, 222, 800, 820, 99, 111, 390, 136, 912])],\n",
              "      dtype=object)"
            ]
          },
          "metadata": {},
          "execution_count": 12
        }
      ]
    },
    {
      "cell_type": "code",
      "source": [
        "print(f'Length of vocabulary is {len(vocab)}')"
      ],
      "metadata": {
        "colab": {
          "base_uri": "https://localhost:8080/"
        },
        "id": "3VSwN_9soxuC",
        "outputId": "c5ec7e80-bbac-479a-9b1e-5d8f0e0b83c2"
      },
      "execution_count": null,
      "outputs": [
        {
          "output_type": "stream",
          "name": "stdout",
          "text": [
            "Length of vocabulary is 1000\n"
          ]
        }
      ]
    },
    {
      "cell_type": "code",
      "source": [
        "rev_len = [len(i) for i in x_train]\n",
        "pd.Series(rev_len).hist()\n",
        "plt.show()\n",
        "pd.Series(rev_len).describe()"
      ],
      "metadata": {
        "colab": {
          "base_uri": "https://localhost:8080/",
          "height": 421
        },
        "id": "h_AOFZaho0Xw",
        "outputId": "d6a488ac-6eff-40ef-9482-3b65c13b37d2"
      },
      "execution_count": null,
      "outputs": [
        {
          "output_type": "display_data",
          "data": {
            "text/plain": [
              "<Figure size 432x288 with 1 Axes>"
            ],
            "image/png": "[encoded data removed]"
          },
          "metadata": {
            "needs_background": "light"
          }
        },
        {
          "output_type": "execute_result",
          "data": {
            "text/plain": [
              "count    37500.000000\n",
              "mean        69.115547\n",
              "std         48.156592\n",
              "min          0.000000\n",
              "25%         39.000000\n",
              "50%         54.000000\n",
              "75%         84.000000\n",
              "max        654.000000\n",
              "dtype: float64"
            ]
          },
          "metadata": {},
          "execution_count": 12
        }
      ]
    },
    {
      "cell_type": "code",
      "source": [
        "def padding_(sentences, seq_len):\n",
        "    features = np.zeros((len(sentences), seq_len),dtype=int)\n",
        "    print(features[0])\n",
        "    for ii, review in enumerate(sentences):\n",
        "        if len(review) != 0:\n",
        "            features[ii, -len(review):] = np.array(review)[:seq_len]\n",
        "    print(features[0])\n",
        "    return features"
      ],
      "metadata": {
        "id": "10PQZXy9o6a-"
      },
      "execution_count": 18,
      "outputs": []
    },
    {
      "cell_type": "code",
      "source": [
        "#we have very less number of reviews with length > 500.\n",
        "#So we will consideronly those below it.\n",
        "x_train_pad = padding_(x_train,500)\n",
        "x_test_pad = padding_(x_test,500)"
      ],
      "metadata": {
        "id": "YU8xHcB-o_c9",
        "colab": {
          "base_uri": "https://localhost:8080/"
        },
        "outputId": "13339495-28ba-4b44-c239-6b708f521931"
      },
      "execution_count": 19,
      "outputs": [
        {
          "output_type": "stream",
          "name": "stdout",
          "text": [
            "[0 0 0 0 0 0 0 0 0 0 0 0 0 0 0 0 0 0 0 0 0 0 0 0 0 0 0 0 0 0 0 0 0 0 0 0 0\n",
            " 0 0 0 0 0 0 0 0 0 0 0 0 0 0 0 0 0 0 0 0 0 0 0 0 0 0 0 0 0 0 0 0 0 0 0 0 0\n",
            " 0 0 0 0 0 0 0 0 0 0 0 0 0 0 0 0 0 0 0 0 0 0 0 0 0 0 0 0 0 0 0 0 0 0 0 0 0\n",
            " 0 0 0 0 0 0 0 0 0 0 0 0 0 0 0 0 0 0 0 0 0 0 0 0 0 0 0 0 0 0 0 0 0 0 0 0 0\n",
            " 0 0 0 0 0 0 0 0 0 0 0 0 0 0 0 0 0 0 0 0 0 0 0 0 0 0 0 0 0 0 0 0 0 0 0 0 0\n",
            " 0 0 0 0 0 0 0 0 0 0 0 0 0 0 0 0 0 0 0 0 0 0 0 0 0 0 0 0 0 0 0 0 0 0 0 0 0\n",
            " 0 0 0 0 0 0 0 0 0 0 0 0 0 0 0 0 0 0 0 0 0 0 0 0 0 0 0 0 0 0 0 0 0 0 0 0 0\n",
            " 0 0 0 0 0 0 0 0 0 0 0 0 0 0 0 0 0 0 0 0 0 0 0 0 0 0 0 0 0 0 0 0 0 0 0 0 0\n",
            " 0 0 0 0 0 0 0 0 0 0 0 0 0 0 0 0 0 0 0 0 0 0 0 0 0 0 0 0 0 0 0 0 0 0 0 0 0\n",
            " 0 0 0 0 0 0 0 0 0 0 0 0 0 0 0 0 0 0 0 0 0 0 0 0 0 0 0 0 0 0 0 0 0 0 0 0 0\n",
            " 0 0 0 0 0 0 0 0 0 0 0 0 0 0 0 0 0 0 0 0 0 0 0 0 0 0 0 0 0 0 0 0 0 0 0 0 0\n",
            " 0 0 0 0 0 0 0 0 0 0 0 0 0 0 0 0 0 0 0 0 0 0 0 0 0 0 0 0 0 0 0 0 0 0 0 0 0\n",
            " 0 0 0 0 0 0 0 0 0 0 0 0 0 0 0 0 0 0 0 0 0 0 0 0 0 0 0 0 0 0 0 0 0 0 0 0 0\n",
            " 0 0 0 0 0 0 0 0 0 0 0 0 0 0 0 0 0 0 0]\n",
            "[  0   0   0   0   0   0   0   0   0   0   0   0   0   0   0   0   0   0\n",
            "   0   0   0   0   0   0   0   0   0   0   0   0   0   0   0   0   0   0\n",
            "   0   0   0   0   0   0   0   0   0   0   0   0   0   0   0   0   0   0\n",
            "   0   0   0   0   0   0   0   0   0   0   0   0   0   0   0   0   0   0\n",
            "   0   0   0   0   0   0   0   0   0   0   0   0   0   0   0   0   0   0\n",
            "   0   0   0   0   0   0   0   0   0   0   0   0   0   0   0   0   0   0\n",
            "   0   0   0   0   0   0   0   0   0   0   0   0   0   0   0   0   0   0\n",
            "   0   0   0   0   0   0   0   0   0   0   0   0   0   0   0   0   0   0\n",
            "   0   0   0   0   0   0   0   0   0   0   0   0   0   0   0   0   0   0\n",
            "   0   0   0   0   0   0   0   0   0   0   0   0   0   0   0   0   0   0\n",
            "   0   0   0   0   0   0   0   0   0   0   0   0   0   0   0   0   0   0\n",
            "   0   0   0   0   0   0   0   0   0   0   0   0   0   0   0   0   0   0\n",
            "   0   0   0   0   0   0   0   0   0   0   0   0   0   0   0   0   0   0\n",
            "   0   0   0   0   0   0   0   0   0   0   0   0   0   0   0   0   0   0\n",
            "   0   0   0   0   0   0   0   0   0   0   0   0   0   0   0   0   0   0\n",
            "   0   0   0   0   0   0   0   0   0   0   0   0   0   0   0   0   0   0\n",
            "   0   0   0   0   0   0   0   0   0   0   0   0   0   0   0   0   0   0\n",
            "   0   0   0   0   0   0   0   0   0   0   0   0   0   0   0   0   0   0\n",
            "   0   0   0   0   0   0   0   0   0   0   0   0   0   0   0   0   0   0\n",
            "   0   0   0   0   0   0   0   0   0   0   0   0   0   0   0   0   0   0\n",
            "   0   0   0   0   0   0   0   0   0   0   0   0   0   0   0   0   0   0\n",
            "  85 120  30  20  44  46 457 330 772  32 233 978 744 873 255   1 330 988\n",
            " 189   4 140 174 887 330 189 135 176  19 510   2  20  44 330   1   2  23\n",
            " 873 111  27 330 888 806  19  26  30 621 988 812 330  20  40 663 201  22\n",
            " 639 209  22 330 184 201 457 330 988 457 988 330  19  26   7 177 330 161\n",
            " 244 988  44  23  26 898 510 906  17 292 339   1 396 296 906  17 129 415\n",
            "  62  20  22 330  23 511 289 140 164 330 988 189 140   9   7  26   8   8\n",
            " 187  10 104 540  22 374 120  30  19 651 371 286 339   1]\n",
            "[0 0 0 0 0 0 0 0 0 0 0 0 0 0 0 0 0 0 0 0 0 0 0 0 0 0 0 0 0 0 0 0 0 0 0 0 0\n",
            " 0 0 0 0 0 0 0 0 0 0 0 0 0 0 0 0 0 0 0 0 0 0 0 0 0 0 0 0 0 0 0 0 0 0 0 0 0\n",
            " 0 0 0 0 0 0 0 0 0 0 0 0 0 0 0 0 0 0 0 0 0 0 0 0 0 0 0 0 0 0 0 0 0 0 0 0 0\n",
            " 0 0 0 0 0 0 0 0 0 0 0 0 0 0 0 0 0 0 0 0 0 0 0 0 0 0 0 0 0 0 0 0 0 0 0 0 0\n",
            " 0 0 0 0 0 0 0 0 0 0 0 0 0 0 0 0 0 0 0 0 0 0 0 0 0 0 0 0 0 0 0 0 0 0 0 0 0\n",
            " 0 0 0 0 0 0 0 0 0 0 0 0 0 0 0 0 0 0 0 0 0 0 0 0 0 0 0 0 0 0 0 0 0 0 0 0 0\n",
            " 0 0 0 0 0 0 0 0 0 0 0 0 0 0 0 0 0 0 0 0 0 0 0 0 0 0 0 0 0 0 0 0 0 0 0 0 0\n",
            " 0 0 0 0 0 0 0 0 0 0 0 0 0 0 0 0 0 0 0 0 0 0 0 0 0 0 0 0 0 0 0 0 0 0 0 0 0\n",
            " 0 0 0 0 0 0 0 0 0 0 0 0 0 0 0 0 0 0 0 0 0 0 0 0 0 0 0 0 0 0 0 0 0 0 0 0 0\n",
            " 0 0 0 0 0 0 0 0 0 0 0 0 0 0 0 0 0 0 0 0 0 0 0 0 0 0 0 0 0 0 0 0 0 0 0 0 0\n",
            " 0 0 0 0 0 0 0 0 0 0 0 0 0 0 0 0 0 0 0 0 0 0 0 0 0 0 0 0 0 0 0 0 0 0 0 0 0\n",
            " 0 0 0 0 0 0 0 0 0 0 0 0 0 0 0 0 0 0 0 0 0 0 0 0 0 0 0 0 0 0 0 0 0 0 0 0 0\n",
            " 0 0 0 0 0 0 0 0 0 0 0 0 0 0 0 0 0 0 0 0 0 0 0 0 0 0 0 0 0 0 0 0 0 0 0 0 0\n",
            " 0 0 0 0 0 0 0 0 0 0 0 0 0 0 0 0 0 0 0]\n",
            "[  0   0   0   0   0   0   0   0   0   0   0   0   0   0   0   0   0   0\n",
            "   0   0   0   0   0   0   0   0   0   0   0   0   0   0   0   0   0   0\n",
            "   0   0   0   0   0   0   0   0   0   0   0   0   0   0   0   0   0   0\n",
            "   0   0   0   0   0   0   0   0   0   0   0   0   0   0   0   0   0   0\n",
            "   0   0   0   0   0   0   0   0   0   0   0   0   0   0   0   0   0   0\n",
            "   0   0   0   0   0   0   0   0   0   0   0   0   0   0   0   0   0   0\n",
            "   0   0   0   0   0   0   0   0   0   0   0   0   0   0   0   0   0   0\n",
            "   0   0   0   0   0   0   0   0   0   0   0   0   0   0   0   0   0   0\n",
            "   0   0   0   0   0   0   0   0   0   0   0   0   0   0   0   0   0   0\n",
            "   0   0   0   0   0   0   0   0   0   0   0   0   0   0   0   0   0   0\n",
            "   0   0   0   0   0   0   0   0   0   0   0   0   0   0   0   0   0   0\n",
            "   0   0   0   0   0   0   0   0   0   0   0   0   0   0   0   0   0   0\n",
            "   0   0   0   0   0   0   0   0   0   0   0   0   0   0   0   0   0   0\n",
            "   0   0   0   0   0   0   0   0   0   0   0   0   0   0   0   0   0   0\n",
            "   0   0   0   0   0   0   0   0   0   0   0   0   0   0   0   0   0   0\n",
            "   0   0   0   0   0   0   0   0   0   0   0   0   0   0   0   0   0   0\n",
            "   0   0   0   0   0   0   0   0   0   0   0   0   0   0   0   0   0   0\n",
            "   0   0   0   0   0   0   0   0   0   0   0   0   0   0   0   0   0   0\n",
            "   0   0   0   0   0   0   0   0   0   0   0   0   0   0   0   0   0   0\n",
            "   0   0   0   0   0   0   0   0   0   0   0   0   0   0   0   0   0   0\n",
            "   0   0   0   0   0   0   0   0   0   0   0   0   0   0   0   0   0   0\n",
            "   0   0   0   0   0   0   0   0   0   0   0   0   0   0   0   0   0   0\n",
            "   0   0   0   0   0   0   0   0   0   0   0   0   0   0   0   0   0   0\n",
            "   0   0   0   0   0   0   0   0   0   0   0   0   0   0   0   0   0   0\n",
            "   0   0   0   0   0   0   0   0   0   0   0   0   0   0   0   0   0   0\n",
            "   0   0   0   0   0   0   0   0   0   0   0   0   0   0   0   0   0   0\n",
            "   0   0   0   0   0 375 182  94  50 250 855 544  94 431 974 343 139 365\n",
            " 670  20 106 320 845 403 133 770 438 154  44  65 106 242]\n"
          ]
        }
      ]
    },
    {
      "cell_type": "code",
      "source": [
        "#Batching and loading as tensor\n",
        "# create Tensor datasets\n",
        "train_data = TensorDataset(torch.from_numpy(x_train_pad), torch.from_numpy(y_train))\n",
        "valid_data = TensorDataset(torch.from_numpy(x_test_pad), torch.from_numpy(y_test))\n",
        "\n",
        "# dataloaders\n",
        "batch_size = 50\n",
        "\n",
        "# make sure to SHUFFLE your data\n",
        "train_loader = DataLoader(train_data, shuffle=True, batch_size=batch_size)\n",
        "valid_loader = DataLoader(valid_data, shuffle=True, batch_size=batch_size)"
      ],
      "metadata": {
        "id": "tPe5tnqipCxH"
      },
      "execution_count": null,
      "outputs": []
    },
    {
      "cell_type": "code",
      "source": [
        "# obtain one batch of training data\n",
        "dataiter = iter(train_loader)\n",
        "sample_x, sample_y = dataiter.next()\n",
        "\n",
        "print('Sample input size: ', sample_x.size()) # batch_size, seq_length\n",
        "print('Sample input: \\n', sample_x)\n",
        "print('Sample input: \\n', sample_y)"
      ],
      "metadata": {
        "colab": {
          "base_uri": "https://localhost:8080/"
        },
        "id": "F7ZhR8JNpLSS",
        "outputId": "1ffa0f81-ed2f-4873-d83f-47599bdb9ba6"
      },
      "execution_count": null,
      "outputs": [
        {
          "output_type": "stream",
          "name": "stdout",
          "text": [
            "Sample input size:  torch.Size([50, 500])\n",
            "Sample input: \n",
            " tensor([[  0,   0,   0,  ..., 110, 737, 483],\n",
            "        [  0,   0,   0,  ...,  52,  56, 270],\n",
            "        [  0,   0,   0,  ..., 142,  94, 288],\n",
            "        ...,\n",
            "        [  0,   0,   0,  ..., 217, 323,  59],\n",
            "        [  0,   0,   0,  ...,   2, 226, 237],\n",
            "        [  0,   0,   0,  ..., 107,  11, 349]])\n",
            "Sample input: \n",
            " tensor([0, 0, 1, 0, 1, 1, 0, 0, 0, 1, 0, 1, 1, 0, 0, 0, 1, 0, 1, 0, 0, 0, 0, 1,\n",
            "        1, 0, 0, 1, 0, 1, 1, 1, 0, 1, 1, 0, 0, 0, 1, 1, 0, 1, 0, 1, 1, 1, 0, 0,\n",
            "        0, 1])\n"
          ]
        }
      ]
    },
    {
      "cell_type": "code",
      "source": [
        "class SentimentRNN(nn.Module):\n",
        "    def __init__(self,no_layers,vocab_size,hidden_dim,embedding_dim,drop_prob=0.5):\n",
        "        super(SentimentRNN,self).__init__()\n",
        " \n",
        "        self.output_dim = output_dim\n",
        "        self.hidden_dim = hidden_dim\n",
        " \n",
        "        self.no_layers = no_layers\n",
        "        self.vocab_size = vocab_size\n",
        "    \n",
        "        # embedding and LSTM layers\n",
        "        self.embedding = nn.Embedding(vocab_size, embedding_dim)\n",
        "        \n",
        "        #lstm\n",
        "        self.lstm = nn.LSTM(input_size=embedding_dim,hidden_size=self.hidden_dim,\n",
        "                           num_layers=no_layers, batch_first=True)\n",
        "        \n",
        "        \n",
        "        # dropout layer\n",
        "        self.dropout = nn.Dropout(0.3)\n",
        "    \n",
        "        # linear and sigmoid layer\n",
        "        self.fc = nn.Linear(self.hidden_dim, output_dim)\n",
        "        self.sig = nn.Sigmoid()\n",
        "        \n",
        "    def forward(self,x,hidden):\n",
        "        batch_size = x.size(0)\n",
        "        # embeddings and lstm_out\n",
        "        embeds = self.embedding(x)  # shape: B x S x Feature   since batch = True\n",
        "        #print(embeds.shape)  #[50, 500, 1000]\n",
        "        lstm_out, hidden = self.lstm(embeds, hidden)\n",
        "        \n",
        "        lstm_out = lstm_out.contiguous().view(-1, self.hidden_dim) \n",
        "        \n",
        "        # dropout and fully connected layer\n",
        "        out = self.dropout(lstm_out)\n",
        "        out = self.fc(out)\n",
        "        \n",
        "        # sigmoid function\n",
        "        sig_out = self.sig(out)\n",
        "        \n",
        "        # reshape to be batch_size first\n",
        "        sig_out = sig_out.view(batch_size, -1)\n",
        "\n",
        "        sig_out = sig_out[:, -1] # get last batch of labels\n",
        "        \n",
        "        # return last sigmoid output and hidden state\n",
        "        return sig_out, hidden\n",
        "        \n",
        "        \n",
        "        \n",
        "    def init_hidden(self, batch_size):\n",
        "        ''' Initializes hidden state '''\n",
        "        # Create two new tensors with sizes n_layers x batch_size x hidden_dim,\n",
        "        # initialized to zero, for hidden state and cell state of LSTM\n",
        "        h0 = torch.zeros((self.no_layers,batch_size,self.hidden_dim)).to(device)\n",
        "        c0 = torch.zeros((self.no_layers,batch_size,self.hidden_dim)).to(device)\n",
        "        hidden = (h0,c0)\n",
        "        return hidden\n"
      ],
      "metadata": {
        "id": "fMGnubufpST4"
      },
      "execution_count": null,
      "outputs": []
    },
    {
      "cell_type": "code",
      "source": [
        "no_layers = 2\n",
        "vocab_size = len(vocab) + 1 #extra 1 for padding\n",
        "embedding_dim = 64\n",
        "output_dim = 1\n",
        "hidden_dim = 256\n",
        "model = SentimentRNN(no_layers,vocab_size,hidden_dim,embedding_dim,drop_prob=0.5)\n"
      ],
      "metadata": {
        "id": "My-SVaSNpfBv"
      },
      "execution_count": null,
      "outputs": []
    },
    {
      "cell_type": "code",
      "source": [
        "#moving to gpu\n",
        "model.to(device)\n",
        "print(model)"
      ],
      "metadata": {
        "colab": {
          "base_uri": "https://localhost:8080/"
        },
        "id": "ZGGDgTEPpkUL",
        "outputId": "074c0c95-e590-4e75-f6a5-865a1937a2c8"
      },
      "execution_count": null,
      "outputs": [
        {
          "output_type": "stream",
          "name": "stdout",
          "text": [
            "SentimentRNN(\n",
            "  (embedding): Embedding(1001, 64)\n",
            "  (lstm): LSTM(64, 256, num_layers=2, batch_first=True)\n",
            "  (dropout): Dropout(p=0.3, inplace=False)\n",
            "  (fc): Linear(in_features=256, out_features=1, bias=True)\n",
            "  (sig): Sigmoid()\n",
            ")\n"
          ]
        }
      ]
    },
    {
      "cell_type": "code",
      "source": [
        "# loss and optimization functions\n",
        "lr=0.001\n",
        "\n",
        "criterion = nn.BCELoss()\n",
        "\n",
        "optimizer = torch.optim.Adam(model.parameters(), lr=lr)\n",
        "\n",
        "# function to predict accuracy\n",
        "def acc(pred,label):\n",
        "    pred = torch.round(pred.squeeze())\n",
        "    return torch.sum(pred == label.squeeze()).item()"
      ],
      "metadata": {
        "id": "iTWBUcvGpnqG"
      },
      "execution_count": null,
      "outputs": []
    },
    {
      "cell_type": "code",
      "source": [
        "clip = 5\n",
        "epochs = 5 \n",
        "valid_loss_min = np.Inf\n",
        "# train for some number of epochs\n",
        "epoch_tr_loss,epoch_vl_loss = [],[]\n",
        "epoch_tr_acc,epoch_vl_acc = [],[]\n",
        "\n",
        "for epoch in range(epochs):\n",
        "    train_losses = []\n",
        "    train_acc = 0.0\n",
        "    model.train()\n",
        "    # initialize hidden state \n",
        "    h = model.init_hidden(batch_size)\n",
        "    for inputs, labels in train_loader:\n",
        "        \n",
        "        inputs, labels = inputs.to(device), labels.to(device)   \n",
        "        # Creating new variables for the hidden state, otherwise\n",
        "        # we'd backprop through the entire training history\n",
        "        h = tuple([each.data for each in h])\n",
        "        \n",
        "        model.zero_grad()\n",
        "        output,h = model(inputs,h)\n",
        "        \n",
        "        # calculate the loss and perform backprop\n",
        "        loss = criterion(output.squeeze(), labels.float())\n",
        "        loss.backward()\n",
        "        train_losses.append(loss.item())\n",
        "        # calculating accuracy\n",
        "        accuracy = acc(output,labels)\n",
        "        train_acc += accuracy\n",
        "        #`clip_grad_norm` helps prevent the exploding gradient problem in RNNs / LSTMs.\n",
        "        nn.utils.clip_grad_norm_(model.parameters(), clip)\n",
        "        optimizer.step()\n",
        " \n",
        "    \n",
        "        \n",
        "    val_h = model.init_hidden(batch_size)\n",
        "    val_losses = []\n",
        "    val_acc = 0.0\n",
        "    model.eval()\n",
        "    for inputs, labels in valid_loader:\n",
        "            val_h = tuple([each.data for each in val_h])\n",
        "            inputs, labels = inputs.to(device), labels.to(device)\n",
        "            output, val_h = model(inputs, val_h)\n",
        "            val_loss = criterion(output.squeeze(), labels.float())\n",
        "            val_losses.append(val_loss.item())\n",
        "            accuracy = acc(output,labels)\n",
        "            val_acc += accuracy\n",
        "            \n",
        "    epoch_train_loss = np.mean(train_losses)\n",
        "    epoch_val_loss = np.mean(val_losses)\n",
        "    epoch_train_acc = train_acc/len(train_loader.dataset)\n",
        "    epoch_val_acc = val_acc/len(valid_loader.dataset)\n",
        "    epoch_tr_loss.append(epoch_train_loss)\n",
        "    epoch_vl_loss.append(epoch_val_loss)\n",
        "    epoch_tr_acc.append(epoch_train_acc)\n",
        "    epoch_vl_acc.append(epoch_val_acc)\n",
        "    print(f'Epoch {epoch+1}') \n",
        "    print(f'train_loss : {epoch_train_loss} val_loss : {epoch_val_loss}')\n",
        "    print(f'train_accuracy : {epoch_train_acc*100} val_accuracy : {epoch_val_acc*100}')\n",
        "    if epoch_val_loss <= valid_loss_min:\n",
        "        torch.save(model.state_dict(), '../state_dict.pt')\n",
        "        print('Validation loss decreased ({:.6f} --> {:.6f}).  Saving model ...'.format(valid_loss_min,epoch_val_loss))\n",
        "        valid_loss_min = epoch_val_loss\n",
        "    print(25*'==')\n",
        "    "
      ],
      "metadata": {
        "colab": {
          "base_uri": "https://localhost:8080/"
        },
        "id": "HRaojwetptxe",
        "outputId": "2f38dd01-097b-495f-fedc-222e3e662e02"
      },
      "execution_count": null,
      "outputs": [
        {
          "output_type": "stream",
          "name": "stdout",
          "text": [
            "Epoch 1\n",
            "train_loss : 0.3731894515355428 val_loss : 0.34361904907226565\n",
            "train_accuracy : 83.95733333333332 val_accuracy : 84.768\n",
            "Validation loss decreased (inf --> 0.343619).  Saving model ...\n",
            "==================================================\n",
            "Epoch 2\n",
            "train_loss : 0.32473380281527836 val_loss : 0.32815833514928816\n",
            "train_accuracy : 86.10933333333334 val_accuracy : 85.936\n",
            "Validation loss decreased (0.343619 --> 0.328158).  Saving model ...\n",
            "==================================================\n",
            "Epoch 3\n",
            "train_loss : 0.2922947359283765 val_loss : 0.3302586118876934\n",
            "train_accuracy : 87.70666666666666 val_accuracy : 85.976\n",
            "==================================================\n",
            "Epoch 4\n",
            "train_loss : 0.25698781390984854 val_loss : 0.3374764192998409\n",
            "train_accuracy : 89.464 val_accuracy : 85.456\n",
            "==================================================\n",
            "Epoch 5\n",
            "train_loss : 0.20727969951430958 val_loss : 0.37722191846370695\n",
            "train_accuracy : 91.77333333333333 val_accuracy : 85.544\n",
            "==================================================\n"
          ]
        }
      ]
    },
    {
      "cell_type": "code",
      "source": [
        "fig = plt.figure(figsize = (20, 6))\n",
        "plt.subplot(1, 2, 1)\n",
        "plt.plot(epoch_tr_acc, label='Train Acc')\n",
        "plt.plot(epoch_vl_acc, label='Validation Acc')\n",
        "plt.title(\"Accuracy\")\n",
        "plt.legend()\n",
        "plt.grid()\n",
        "plt.subplot(1, 2, 2)\n",
        "plt.plot(epoch_tr_loss, label='Train loss')\n",
        "plt.plot(epoch_vl_loss, label='Validation loss')\n",
        "plt.title(\"Loss\")\n",
        "plt.legend()\n",
        "plt.grid()\n",
        "plt.show()"
      ],
      "metadata": {
        "colab": {
          "base_uri": "https://localhost:8080/",
          "height": 219
        },
        "id": "KF_Yi6kUp9BQ",
        "outputId": "d997ab5a-6c69-44c0-d0ee-91c91c5d4d34"
      },
      "execution_count": null,
      "outputs": [
        {
          "output_type": "display_data",
          "data": {
            "text/plain": [
              "<Figure size 1440x432 with 2 Axes>"
            ],
            "image/png": "[encoded data removed]"
          },
          "metadata": {
            "needs_background": "light"
          }
        }
      ]
    },
    {
      "cell_type": "code",
      "source": [
        "def predict_text(text):\n",
        "        word_seq = np.array([vocab[preprocess_string(word)] for word in text.split() \n",
        "                         if preprocess_string(word) in vocab.keys()])\n",
        "        word_seq = np.expand_dims(word_seq,axis=0)\n",
        "        pad =  torch.from_numpy(padding_(word_seq,500))\n",
        "        inputs = pad.to(device)\n",
        "        batch_size = 1\n",
        "        h = model.init_hidden(batch_size)\n",
        "        h = tuple([each.data for each in h])\n",
        "        output, h = model(inputs, h)\n",
        "        return(output.item())"
      ],
      "metadata": {
        "id": "WZPZcDrGqEFz"
      },
      "execution_count": null,
      "outputs": []
    },
    {
      "cell_type": "code",
      "source": [
        "index = 30\n",
        "print(df['review'][index])\n",
        "print('='*70)\n",
        "print(f'Actual sentiment is  : {df[\"sentiment\"][index]}')\n",
        "print('='*70)\n",
        "pro = predict_text(df['review'][index])\n",
        "status = \"positive\" if pro > 0.5 else \"negative\"\n",
        "pro = (1 - pro) if status == \"negative\" else pro\n",
        "print(f'Predicted sentiment is {status} with a probability of {pro}')"
      ],
      "metadata": {
        "colab": {
          "base_uri": "https://localhost:8080/"
        },
        "id": "jDefM8i3qS35",
        "outputId": "6d53b713-d05d-478f-8fd4-2e1767bcd758"
      },
      "execution_count": null,
      "outputs": [
        {
          "output_type": "stream",
          "name": "stdout",
          "text": [
            "Taut and organically gripping, Edward Dmytryk's Crossfire is a distinctive suspense thriller, an unlikely \"message\" movie using the look and devices of the noir cycle.<br /><br />Bivouacked in Washington, DC, a company of soldiers cope with their restlessness by hanging out in bars. Three of them end up at a stranger's apartment where Robert Ryan, drunk and belligerent, beats their host (Sam Levene) to death because he happens to be Jewish. Police detective Robert Young investigates with the help of Robert Mitchum, who's assigned to Ryan's outfit. Suspicion falls on the second of the three (George Cooper), who has vanished. Ryan slays the third buddy (Steve Brodie) to insure his silence before Young closes in.<br /><br />Abetted by a superior script by John Paxton, Dmytryk draws precise performances from his three starring Bobs. Ryan, naturally, does his prototypical Angry White Male (and to the hilt), while Mitchum underplays with his characteristic alert nonchalance (his role, however, is not central); Young may never have been better. Gloria Grahame gives her first fully-fledged rendition of the smart-mouthed, vulnerable tramp, and, as a sad sack who's leeched into her life, Paul Kelly haunts us in a small, peripheral role that he makes memorable.<br /><br />The politically engaged Dmytryk perhaps inevitably succumbs to sermonizing, but it's pretty much confined to Young's reminiscence of how his Irish grandfather died at the hands of bigots a century earlier (thus, incidentally, stretching chronology to the limit). At least there's no attempt to render an explanation, however glib, of why Ryan hates Jews (and hillbillies and...).<br /><br />Curiously, Crossfire survives even the major change wrought upon it -- the novel it's based on (Richard Brooks' The Brick Foxhole) dealt with a gay-bashing murder. But homosexuality in 1947 was still Beyond The Pale. News of the Holocaust had, however, begun to emerge from the ashes of Europe, so Hollywood felt emboldened to register its protest against anti-Semitism (the studios always quaked at the prospect of offending any potential ticket buyer).<br /><br />But while the change from homophobia to anti-Semitism works in general, the specifics don't fit so smoothly. The victim's chatting up a lonesome, drunk young soldier then inviting him back home looks odd, even though (or especially since) there's a girlfriend in tow. It raises the question whether this scenario was retained inadvertently or left in as a discreet tip-off to the original engine generating Ryan's murderous rage.\n",
            "======================================================================\n",
            "Actual sentiment is  : positive\n",
            "======================================================================\n",
            "Predicted sentiment is positive with a probability of 0.5796020030975342\n"
          ]
        }
      ]
    },
    {
      "cell_type": "code",
      "source": [
        "index = 32\n",
        "print(df['review'][index])\n",
        "print('='*70)\n",
        "print(f'Actual sentiment is  : {df[\"sentiment\"][index]}')\n",
        "print('='*70)\n",
        "pro = predict_text(df['review'][index])\n",
        "status = \"positive\" if pro > 0.5 else \"negative\"\n",
        "pro = (1 - pro) if status == \"negative\" else pro\n",
        "print(f'predicted sentiment is {status} with a probability of {pro}')"
      ],
      "metadata": {
        "colab": {
          "base_uri": "https://localhost:8080/"
        },
        "id": "TP16c36aqXFU",
        "outputId": "86b38978-9724-4876-f236-398c5951bf32"
      },
      "execution_count": null,
      "outputs": [
        {
          "output_type": "stream",
          "name": "stdout",
          "text": [
            "My first exposure to the Templarios & not a good one. I was excited to find this title among the offerings from Anchor Bay Video, which has brought us other cult classics such as \"Spider Baby\". The print quality is excellent, but this alone can't hide the fact that the film is deadly dull. There's a thrilling opening sequence in which the villagers exact a terrible revenge on the Templars (& set the whole thing in motion), but everything else in the movie is slow, ponderous &, ultimately, unfulfilling. Adding insult to injury: the movie was dubbed, not subtitled, as promised on the video jacket.\n",
            "======================================================================\n",
            "Actual sentiment is  : negative\n",
            "======================================================================\n",
            "predicted sentiment is negative with a probability of 0.9535821937024593\n"
          ]
        }
      ]
    }
  ]
}